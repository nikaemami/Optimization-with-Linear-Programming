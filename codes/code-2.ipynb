{
 "cells": [
  {
   "cell_type": "markdown",
   "metadata": {},
   "source": [
    "**Question 5:**"
   ]
  },
  {
   "cell_type": "code",
   "execution_count": 4,
   "metadata": {
    "id": "Odv9IB18OPYY"
   },
   "outputs": [],
   "source": [
    "import pyomo.environ as pyo\n",
    "from pyomo.environ import *\n",
    "from pyomo.opt import SolverFactory"
   ]
  },
  {
   "cell_type": "code",
   "execution_count": 11,
   "metadata": {
    "id": "iJKwI1cqPqHo"
   },
   "outputs": [],
   "source": [
    "model = pyo.ConcreteModel()\n",
    "model.x = pyo.Var()\n",
    "model.y = pyo.Var()\n",
    "x = model.x\n",
    "y = model.y\n",
    "#constraints for each side of the triangle being a positive number\n",
    "model.c1 = pyo.Constraint(expr = 8-x-0.5*y >= 0)\n",
    "model.c2 = pyo.Constraint(expr = 7+x-1.5*y >= 0)\n",
    "model.c3 = pyo.Constraint(expr = 1+x >= 0)\n",
    "#constraints for the triangle inequalities\n",
    "model.c4 = pyo.Constraint(expr = 8-x-0.5*y+7+x-1.5*y >= 1+x)\n",
    "model.c5 = pyo.Constraint(expr = 8-x-0.5*y+1+x >= 7+x-1.5*y)\n",
    "model.c6 = pyo.Constraint(expr = 7+x-1.5*y+1+x >= 8-x-0.5*y)"
   ]
  },
  {
   "cell_type": "code",
   "execution_count": 16,
   "metadata": {
    "colab": {
     "base_uri": "https://localhost:8080/"
    },
    "id": "mlDjx6d8S6Ai",
    "outputId": "5da52b58-62cf-4f7d-b351-0b9df7ed78ce"
   },
   "outputs": [
    {
     "name": "stderr",
     "output_type": "stream",
     "text": [
      "WARNING:pyomo.core:Implicitly replacing the Component attribute obj (type=<class 'pyomo.core.base.objective.ScalarObjective'>) on block unknown with a new Component (type=<class 'pyomo.core.base.objective.ScalarObjective'>).\n",
      "This is usually indicative of a modelling error.\n",
      "To avoid this warning, use block.del_component() and block.add_component().\n"
     ]
    },
    {
     "name": "stdout",
     "output_type": "stream",
     "text": [
      "2 Var Declarations\n",
      "    x : Size=1, Index=None\n",
      "        Key  : Lower : Value : Upper : Fixed : Stale : Domain\n",
      "        None :  None :  -1.0 :  None : False : False :  Reals\n",
      "    y : Size=1, Index=None\n",
      "        Key  : Lower : Value : Upper : Fixed : Stale : Domain\n",
      "        None :  None :  -3.0 :  None : False : False :  Reals\n",
      "\n",
      "1 Objective Declarations\n",
      "    obj : Size=1, Index=None, Active=True\n",
      "        Key  : Active : Sense    : Expression\n",
      "        None :   True : maximize : 8 - x - 0.5*y + 7 + x - 1.5*y + 1 + x\n",
      "\n",
      "6 Constraint Declarations\n",
      "    c1 : Size=1, Index=None, Active=True\n",
      "        Key  : Lower : Body          : Upper : Active\n",
      "        None :   0.0 : 8 - x - 0.5*y :  +Inf :   True\n",
      "    c2 : Size=1, Index=None, Active=True\n",
      "        Key  : Lower : Body          : Upper : Active\n",
      "        None :   0.0 : 7 + x - 1.5*y :  +Inf :   True\n",
      "    c3 : Size=1, Index=None, Active=True\n",
      "        Key  : Lower : Body  : Upper : Active\n",
      "        None :   0.0 : 1 + x :  +Inf :   True\n",
      "    c4 : Size=1, Index=None, Active=True\n",
      "        Key  : Lower : Body                                    : Upper : Active\n",
      "        None :  -Inf : 1 + x - (8 - x - 0.5*y + 7 + x - 1.5*y) :   0.0 :   True\n",
      "    c5 : Size=1, Index=None, Active=True\n",
      "        Key  : Lower : Body                                    : Upper : Active\n",
      "        None :  -Inf : 7 + x - 1.5*y - (8 - x - 0.5*y + 1 + x) :   0.0 :   True\n",
      "    c6 : Size=1, Index=None, Active=True\n",
      "        Key  : Lower : Body                                    : Upper : Active\n",
      "        None :  -Inf : 8 - x - 0.5*y - (7 + x - 1.5*y + 1 + x) :   0.0 :   True\n",
      "\n",
      "9 Declarations: x y c1 c2 c3 c4 c5 c6 obj\n",
      "x =  -1.0\n",
      "y =  -3.0\n",
      "optimal value (max perimeter) =  21.0\n",
      "side 1 =  10.5\n",
      "side 2 =  10.5\n",
      "side 3 =  0.0\n"
     ]
    }
   ],
   "source": [
    "model.obj = pyo.Objective(expr = 8-x-0.5*y+7+x-1.5*y+1+x, sense = maximize)\n",
    "opt = SolverFactory('glpk')\n",
    "opt.solve(model)\n",
    "model.pprint()\n",
    "x_value = pyo.value(x)\n",
    "print('x = ',x_value)\n",
    "y_value = pyo.value(y)\n",
    "print('y = ',y_value)\n",
    "print('optimal value (max perimeter) = ', pyo.value(model.obj))\n",
    "print('side 1 = ', 8-x_value-0.5*y_value)\n",
    "print('side 2 = ', 7+x_value-1.5*y_value)\n",
    "print('side 3 = ', 1+x_value)"
   ]
  },
  {
   "cell_type": "code",
   "execution_count": 17,
   "metadata": {
    "colab": {
     "base_uri": "https://localhost:8080/"
    },
    "id": "hXs6auNfS6YF",
    "outputId": "9d75a1fd-6906-4c01-fe74-5be38590b45a"
   },
   "outputs": [
    {
     "name": "stderr",
     "output_type": "stream",
     "text": [
      "WARNING:pyomo.core:Implicitly replacing the Component attribute obj (type=<class 'pyomo.core.base.objective.ScalarObjective'>) on block unknown with a new Component (type=<class 'pyomo.core.base.objective.ScalarObjective'>).\n",
      "This is usually indicative of a modelling error.\n",
      "To avoid this warning, use block.del_component() and block.add_component().\n"
     ]
    },
    {
     "name": "stdout",
     "output_type": "stream",
     "text": [
      "2 Var Declarations\n",
      "    x : Size=1, Index=None\n",
      "        Key  : Lower : Value : Upper : Fixed : Stale : Domain\n",
      "        None :  None :   2.0 :  None : False : False :  Reals\n",
      "    y : Size=1, Index=None\n",
      "        Key  : Lower : Value : Upper : Fixed : Stale : Domain\n",
      "        None :  None :   6.0 :  None : False : False :  Reals\n",
      "\n",
      "1 Objective Declarations\n",
      "    obj : Size=1, Index=None, Active=True\n",
      "        Key  : Active : Sense    : Expression\n",
      "        None :   True : minimize : 8 - x - 0.5*y + 7 + x - 1.5*y + 1 + x\n",
      "\n",
      "6 Constraint Declarations\n",
      "    c1 : Size=1, Index=None, Active=True\n",
      "        Key  : Lower : Body          : Upper : Active\n",
      "        None :   0.0 : 8 - x - 0.5*y :  +Inf :   True\n",
      "    c2 : Size=1, Index=None, Active=True\n",
      "        Key  : Lower : Body          : Upper : Active\n",
      "        None :   0.0 : 7 + x - 1.5*y :  +Inf :   True\n",
      "    c3 : Size=1, Index=None, Active=True\n",
      "        Key  : Lower : Body  : Upper : Active\n",
      "        None :   0.0 : 1 + x :  +Inf :   True\n",
      "    c4 : Size=1, Index=None, Active=True\n",
      "        Key  : Lower : Body                                    : Upper : Active\n",
      "        None :  -Inf : 1 + x - (8 - x - 0.5*y + 7 + x - 1.5*y) :   0.0 :   True\n",
      "    c5 : Size=1, Index=None, Active=True\n",
      "        Key  : Lower : Body                                    : Upper : Active\n",
      "        None :  -Inf : 7 + x - 1.5*y - (8 - x - 0.5*y + 1 + x) :   0.0 :   True\n",
      "    c6 : Size=1, Index=None, Active=True\n",
      "        Key  : Lower : Body                                    : Upper : Active\n",
      "        None :  -Inf : 8 - x - 0.5*y - (7 + x - 1.5*y + 1 + x) :   0.0 :   True\n",
      "\n",
      "9 Declarations: x y c1 c2 c3 c4 c5 c6 obj\n",
      "x =  2.0\n",
      "y =  6.0\n",
      "optimal value (min perimeter) =  6.0\n",
      "side 1 =  3.0\n",
      "side 2 =  0.0\n",
      "side 3 =  3.0\n"
     ]
    }
   ],
   "source": [
    "model.obj = pyo.Objective(expr = 8-x-0.5*y+7+x-1.5*y+1+x, sense = minimize)\n",
    "opt = SolverFactory('glpk')\n",
    "opt.solve(model)\n",
    "model.pprint()\n",
    "x_value = pyo.value(x)\n",
    "print('x = ',x_value)\n",
    "y_value = pyo.value(y)\n",
    "print('y = ',y_value)\n",
    "print('optimal value (min perimeter) = ', pyo.value(model.obj))\n",
    "print('side 1 = ', 8-x_value-0.5*y_value)\n",
    "print('side 2 = ', 7+x_value-1.5*y_value)\n",
    "print('side 3 = ', 1+x_value)"
   ]
  }
 ],
 "metadata": {
  "colab": {
   "provenance": []
  },
  "kernelspec": {
   "display_name": "Python 3",
   "language": "python",
   "name": "python3"
  },
  "language_info": {
   "codemirror_mode": {
    "name": "ipython",
    "version": 3
   },
   "file_extension": ".py",
   "mimetype": "text/x-python",
   "name": "python",
   "nbconvert_exporter": "python",
   "pygments_lexer": "ipython3",
   "version": "3.8.5"
  }
 },
 "nbformat": 4,
 "nbformat_minor": 1
}
