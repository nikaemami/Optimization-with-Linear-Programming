{
 "cells": [
  {
   "cell_type": "code",
   "execution_count": 1,
   "metadata": {
    "colab": {
     "base_uri": "https://localhost:8080/"
    },
    "id": "QlIOiQVh88fh",
    "outputId": "1a091d21-25a9-41de-9ad6-37725ede556d"
   },
   "outputs": [
    {
     "name": "stdout",
     "output_type": "stream",
     "text": [
      "Looking in indexes: https://pypi.org/simple, https://us-python.pkg.dev/colab-wheels/public/simple/\n",
      "Collecting pyomo\n",
      "  Downloading Pyomo-6.4.2-cp37-cp37m-manylinux_2_12_x86_64.manylinux2010_x86_64.whl (9.7 MB)\n",
      "\u001b[K     |████████████████████████████████| 9.7 MB 3.7 MB/s \n",
      "\u001b[?25hCollecting ply\n",
      "  Downloading ply-3.11-py2.py3-none-any.whl (49 kB)\n",
      "\u001b[K     |████████████████████████████████| 49 kB 5.3 MB/s \n",
      "\u001b[?25hInstalling collected packages: ply, pyomo\n",
      "Successfully installed ply-3.11 pyomo-6.4.2\n"
     ]
    }
   ],
   "source": [
    "!pip install pyomo"
   ]
  },
  {
   "cell_type": "code",
   "execution_count": 2,
   "metadata": {
    "colab": {
     "base_uri": "https://localhost:8080/"
    },
    "id": "1pLNwl7D8_Hk",
    "outputId": "a97914fd-cdc1-433a-b47f-94f46d519e6f"
   },
   "outputs": [
    {
     "name": "stdout",
     "output_type": "stream",
     "text": [
      "Selecting previously unselected package libsuitesparseconfig5:amd64.\n",
      "(Reading database ... 123991 files and directories currently installed.)\n",
      "Preparing to unpack .../libsuitesparseconfig5_1%3a5.1.2-2_amd64.deb ...\n",
      "Unpacking libsuitesparseconfig5:amd64 (1:5.1.2-2) ...\n",
      "Selecting previously unselected package libamd2:amd64.\n",
      "Preparing to unpack .../libamd2_1%3a5.1.2-2_amd64.deb ...\n",
      "Unpacking libamd2:amd64 (1:5.1.2-2) ...\n",
      "Selecting previously unselected package libcolamd2:amd64.\n",
      "Preparing to unpack .../libcolamd2_1%3a5.1.2-2_amd64.deb ...\n",
      "Unpacking libcolamd2:amd64 (1:5.1.2-2) ...\n",
      "Selecting previously unselected package libglpk40:amd64.\n",
      "Preparing to unpack .../libglpk40_4.65-1_amd64.deb ...\n",
      "Unpacking libglpk40:amd64 (4.65-1) ...\n",
      "Selecting previously unselected package glpk-utils.\n",
      "Preparing to unpack .../glpk-utils_4.65-1_amd64.deb ...\n",
      "Unpacking glpk-utils (4.65-1) ...\n",
      "Setting up libsuitesparseconfig5:amd64 (1:5.1.2-2) ...\n",
      "Setting up libcolamd2:amd64 (1:5.1.2-2) ...\n",
      "Setting up libamd2:amd64 (1:5.1.2-2) ...\n",
      "Setting up libglpk40:amd64 (4.65-1) ...\n",
      "Setting up glpk-utils (4.65-1) ...\n",
      "Processing triggers for libc-bin (2.27-3ubuntu1.6) ...\n",
      "Processing triggers for man-db (2.8.3-2ubuntu0.1) ...\n"
     ]
    }
   ],
   "source": [
    "!apt-get install -y -qq glpk-utils"
   ]
  },
  {
   "cell_type": "code",
   "execution_count": 11,
   "metadata": {
    "id": "iDZxz2BW9BAR"
   },
   "outputs": [],
   "source": [
    "import pyomo.environ as pyo\n",
    "from pyomo.environ import *\n",
    "from pyomo.opt import SolverFactory"
   ]
  },
  {
   "cell_type": "code",
   "execution_count": 4,
   "metadata": {
    "colab": {
     "base_uri": "https://localhost:8080/"
    },
    "id": "vGZ-RVTP9HAU",
    "outputId": "0ddacfbf-4c6b-469b-cbe6-6cbaa7121ff4"
   },
   "outputs": [
    {
     "name": "stdout",
     "output_type": "stream",
     "text": [
      "3\n",
      "2 5\n",
      "3 3\n",
      "3 5\n"
     ]
    }
   ],
   "source": [
    "n = int(input())\n",
    "coordinates = []\n",
    "for i in range(n):\n",
    "    coordinates.append(list(map(int,input().split())))\n",
    "x_axis = []\n",
    "for i in (range(len(coordinates))):\n",
    "  x_axis.append(coordinates[i][0])\n",
    "y_axis = []\n",
    "for i in (range(len(coordinates))):\n",
    "  y_axis.append(coordinates[i][1])"
   ]
  },
  {
   "cell_type": "code",
   "execution_count": 5,
   "metadata": {
    "id": "Gsbedp4w9LeI"
   },
   "outputs": [],
   "source": [
    "model = pyo.ConcreteModel()\n",
    "\n",
    "model.x = pyo.Var(domain=pyo.NonNegativeIntegers)\n",
    "model.y = pyo.Var(domain=pyo.NonNegativeIntegers)\n",
    "x = model.x\n",
    "y = model.y\n",
    "\n",
    "model.new_var = pyo.VarList(domain=pyo.Integers)\n",
    "for i in (range(2 * len(x_axis))):\n",
    "  model.new_var.add()\n",
    "\n",
    "model.c = pyo.ConstraintList()\n",
    "for i in range(len(x_axis)):\n",
    "  model.c.add(expr=  x - x_axis[i] <= model.new_var[i+1])\n",
    "  model.c.add(expr= -1 * (x - x_axis[i]) <= model.new_var[i+1])\n",
    "for i in range(len(x_axis), 2*len(x_axis)):\n",
    "  j = i - len(x_axis)\n",
    "  model.c.add(expr=  y - y_axis[j] <= model.new_var[i+1])\n",
    "  model.c.add(expr= -1 * (y - y_axis[j]) <= model.new_var[i+1])"
   ]
  },
  {
   "cell_type": "code",
   "execution_count": 6,
   "metadata": {
    "colab": {
     "base_uri": "https://localhost:8080/"
    },
    "id": "463J3MWa9Otd",
    "outputId": "ba75686c-24eb-42d7-ce88-858bf1d05170"
   },
   "outputs": [
    {
     "name": "stderr",
     "output_type": "stream",
     "text": [
      "WARNING:pyomo.core:Constant objective detected, replacing with a placeholder to prevent solver failure.\n"
     ]
    },
    {
     "name": "stdout",
     "output_type": "stream",
     "text": [
      "2 Set Declarations\n",
      "    c_index : Size=1, Index=None, Ordered=Insertion\n",
      "        Key  : Dimen : Domain : Size : Members\n",
      "        None :     1 :    Any :   12 : {1, 2, 3, 4, 5, 6, 7, 8, 9, 10, 11, 12}\n",
      "    new_var_index : Size=1, Index=None, Ordered=Insertion\n",
      "        Key  : Dimen : Domain : Size : Members\n",
      "        None :     1 :    Any :    6 : {1, 2, 3, 4, 5, 6}\n",
      "\n",
      "3 Var Declarations\n",
      "    new_var : Size=6, Index=new_var_index\n",
      "        Key : Lower : Value : Upper : Fixed : Stale : Domain\n",
      "          1 :  None :   1.0 :  None : False : False : Integers\n",
      "          2 :  None :   0.0 :  None : False : False : Integers\n",
      "          3 :  None :   0.0 :  None : False : False : Integers\n",
      "          4 :  None :   0.0 :  None : False : False : Integers\n",
      "          5 :  None :   2.0 :  None : False : False : Integers\n",
      "          6 :  None :   0.0 :  None : False : False : Integers\n",
      "    x : Size=1, Index=None\n",
      "        Key  : Lower : Value : Upper : Fixed : Stale : Domain\n",
      "        None :     0 :   3.0 :  None : False : False : NonNegativeIntegers\n",
      "    y : Size=1, Index=None\n",
      "        Key  : Lower : Value : Upper : Fixed : Stale : Domain\n",
      "        None :     0 :   5.0 :  None : False : False : NonNegativeIntegers\n",
      "\n",
      "1 Objective Declarations\n",
      "    obj : Size=1, Index=None, Active=True\n",
      "        Key  : Active : Sense    : Expression\n",
      "        None :   True : minimize :       21.0\n",
      "\n",
      "1 Constraint Declarations\n",
      "    c : Size=12, Index=c_index, Active=True\n",
      "        Key : Lower : Body                   : Upper : Active\n",
      "          1 :  -Inf :     x - 2 - new_var[1] :   0.0 :   True\n",
      "          2 :  -Inf : - (x - 2) - new_var[1] :   0.0 :   True\n",
      "          3 :  -Inf :     x - 3 - new_var[2] :   0.0 :   True\n",
      "          4 :  -Inf : - (x - 3) - new_var[2] :   0.0 :   True\n",
      "          5 :  -Inf :     x - 3 - new_var[3] :   0.0 :   True\n",
      "          6 :  -Inf : - (x - 3) - new_var[3] :   0.0 :   True\n",
      "          7 :  -Inf :     y - 5 - new_var[4] :   0.0 :   True\n",
      "          8 :  -Inf : - (y - 5) - new_var[4] :   0.0 :   True\n",
      "          9 :  -Inf :     y - 3 - new_var[5] :   0.0 :   True\n",
      "         10 :  -Inf : - (y - 3) - new_var[5] :   0.0 :   True\n",
      "         11 :  -Inf :     y - 5 - new_var[6] :   0.0 :   True\n",
      "         12 :  -Inf : - (y - 5) - new_var[6] :   0.0 :   True\n",
      "\n",
      "7 Declarations: x y new_var_index new_var c_index c obj\n",
      "optimal coordinate = ( 3.0 , 5.0 )\n"
     ]
    }
   ],
   "source": [
    "model.obj = pyo.Objective(expr = sum(model.new_var) , sense = minimize)\n",
    "opt = SolverFactory('glpk')\n",
    "opt.solve(model)\n",
    "model.pprint()\n",
    "x_value = pyo.value(x)\n",
    "y_value = pyo.value(y)\n",
    "print('optimal coordinate = (',x_value, ',', y_value, ')')"
   ]
  },
  {
   "cell_type": "code",
   "execution_count": 10,
   "metadata": {
    "colab": {
     "base_uri": "https://localhost:8080/"
    },
    "id": "iJehnncI9S5Z",
    "outputId": "41581a8d-34df-4730-cd68-8833a67456a5"
   },
   "outputs": [
    {
     "name": "stdout",
     "output_type": "stream",
     "text": [
      "optimal cost value =  3.0\n"
     ]
    }
   ],
   "source": [
    "sum_ = 0 \n",
    "for i in range(len(x_axis)):\n",
    "  sum_+= abs(x_value - x_axis[i]) + abs(y_value - y_axis[i])\n",
    "print('optimal cost value = ',sum_)"
   ]
  }
 ],
 "metadata": {
  "colab": {
   "provenance": []
  },
  "kernelspec": {
   "display_name": "Python 3",
   "language": "python",
   "name": "python3"
  },
  "language_info": {
   "codemirror_mode": {
    "name": "ipython",
    "version": 3
   },
   "file_extension": ".py",
   "mimetype": "text/x-python",
   "name": "python",
   "nbconvert_exporter": "python",
   "pygments_lexer": "ipython3",
   "version": "3.8.5"
  }
 },
 "nbformat": 4,
 "nbformat_minor": 1
}
