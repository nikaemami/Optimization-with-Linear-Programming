{
 "cells": [
  {
   "cell_type": "code",
   "execution_count": 21,
   "metadata": {
    "colab": {
     "base_uri": "https://localhost:8080/"
    },
    "id": "MOUokRXqBwP0",
    "outputId": "32549405-5d39-4c0d-f809-a4aef999f822"
   },
   "outputs": [
    {
     "name": "stdout",
     "output_type": "stream",
     "text": [
      "Looking in indexes: https://pypi.org/simple, https://us-python.pkg.dev/colab-wheels/public/simple/\n",
      "Requirement already satisfied: pyomo in /usr/local/lib/python3.8/dist-packages (6.4.3)\n",
      "Requirement already satisfied: ply in /usr/local/lib/python3.8/dist-packages (from pyomo) (3.11)\n"
     ]
    }
   ],
   "source": [
    "!pip install pyomo"
   ]
  },
  {
   "cell_type": "code",
   "execution_count": 22,
   "metadata": {
    "id": "FrG0AE9ZDOnM"
   },
   "outputs": [],
   "source": [
    "!apt-get install -y -qq glpk-utils"
   ]
  },
  {
   "cell_type": "code",
   "execution_count": 23,
   "metadata": {
    "id": "6yzPr0_9DQnY"
   },
   "outputs": [],
   "source": [
    "import pyomo.environ as pyo\n",
    "from pyomo.environ import *\n",
    "from pyomo.opt import SolverFactory"
   ]
  },
  {
   "cell_type": "markdown",
   "metadata": {
    "id": "tgKCfDwFDzj-"
   },
   "source": [
    "Modeling the problem to a Linear Programming problem:\n",
    "\n",
    "The size of each side is the constraint for the xi corresponding to that side. The xi for each side, gets a value of 0 or 1, and demonstrates whether or not that side is in the path.\n",
    "\n",
    "x1 : AB = 2\n",
    "\n",
    "x2 : AC = 7\n",
    "\n",
    "x3 : BC = 10\n",
    "\n",
    "x4 : BE = 30\n",
    "\n",
    "x5: CB = 10\n",
    "\n",
    "x6: CD = 8\n",
    "\n",
    "x7: DE = 5"
   ]
  },
  {
   "cell_type": "code",
   "execution_count": 24,
   "metadata": {
    "id": "gNNK1xJdDebs"
   },
   "outputs": [],
   "source": [
    "model = pyo.ConcreteModel()\n",
    "\n",
    "model.x = pyo.VarList(within=pyo.Binary)\n",
    "x = model.x\n",
    "for i in range(7):\n",
    "  x.add()"
   ]
  },
  {
   "cell_type": "markdown",
   "metadata": {
    "id": "Wj3JKp40GwBM"
   },
   "source": [
    "Starting from A, it has to choose AB or AC (x1+x2 = 1)"
   ]
  },
  {
   "cell_type": "code",
   "execution_count": 25,
   "metadata": {
    "colab": {
     "base_uri": "https://localhost:8080/"
    },
    "id": "16ipHbCuG52B",
    "outputId": "d4fb4c72-da42-453e-86ba-0c5e27ee1e6c"
   },
   "outputs": [
    {
     "data": {
      "text/plain": [
       "<pyomo.core.base.constraint._GeneralConstraintData at 0x7f3209a14d00>"
      ]
     },
     "execution_count": 25,
     "metadata": {},
     "output_type": "execute_result"
    }
   ],
   "source": [
    "model.c = pyo.ConstraintList()\n",
    "model.c.add(expr= x[1] + x[2] == 1)"
   ]
  },
  {
   "cell_type": "markdown",
   "metadata": {
    "id": "S-X-ItZhG-4l"
   },
   "source": [
    "If it chooses AB, it has to choose BC or BE next.\n",
    "\n",
    "x1 = 1 , x3 + x4 = 1"
   ]
  },
  {
   "cell_type": "code",
   "execution_count": 26,
   "metadata": {
    "colab": {
     "base_uri": "https://localhost:8080/"
    },
    "id": "nD9k8zomHWNH",
    "outputId": "bad7e369-b23f-4e85-c99e-aaf3fd7f2eaa"
   },
   "outputs": [
    {
     "data": {
      "text/plain": [
       "<pyomo.core.base.constraint._GeneralConstraintData at 0x7f3209a14e20>"
      ]
     },
     "execution_count": 26,
     "metadata": {},
     "output_type": "execute_result"
    }
   ],
   "source": [
    "model.c.add(expr= x[3] + x[4] == x[1])"
   ]
  },
  {
   "cell_type": "markdown",
   "metadata": {
    "id": "gPwjc_YuHboc"
   },
   "source": [
    "If it chooses AC, it has to choose CB or CD next.\n",
    "\n",
    "x2 = 1 , x5 + x6 = 1"
   ]
  },
  {
   "cell_type": "code",
   "execution_count": 27,
   "metadata": {
    "colab": {
     "base_uri": "https://localhost:8080/"
    },
    "id": "yZJQ9NVAHkE1",
    "outputId": "5c579d32-d5b5-45ce-c9c6-f6ae0138e0fa"
   },
   "outputs": [
    {
     "data": {
      "text/plain": [
       "<pyomo.core.base.constraint._GeneralConstraintData at 0x7f32099bb040>"
      ]
     },
     "execution_count": 27,
     "metadata": {},
     "output_type": "execute_result"
    }
   ],
   "source": [
    "model.c.add(expr= x[5] + x[6] == x[2])"
   ]
  },
  {
   "cell_type": "markdown",
   "metadata": {
    "id": "eadpTttAHqer"
   },
   "source": [
    "If it chooses CD, it will have to choose DE to reach the destination."
   ]
  },
  {
   "cell_type": "code",
   "execution_count": 28,
   "metadata": {
    "colab": {
     "base_uri": "https://localhost:8080/"
    },
    "id": "lnhD5Qc5HxCW",
    "outputId": "9345f888-4ccb-487c-9784-a77bf75e267c"
   },
   "outputs": [
    {
     "data": {
      "text/plain": [
       "<pyomo.core.base.constraint._GeneralConstraintData at 0x7f3209a0bc40>"
      ]
     },
     "execution_count": 28,
     "metadata": {},
     "output_type": "execute_result"
    }
   ],
   "source": [
    "model.c.add(expr= x[6] == x[7])"
   ]
  },
  {
   "cell_type": "markdown",
   "metadata": {
    "id": "ssUZA9lBIIi9"
   },
   "source": [
    "Finally, it has to choose between BE or DE to get to E. (x4+x7 = 1)"
   ]
  },
  {
   "cell_type": "code",
   "execution_count": 29,
   "metadata": {
    "colab": {
     "base_uri": "https://localhost:8080/"
    },
    "id": "XZtAGfozIWtZ",
    "outputId": "6b138323-9ffd-4b37-ddb1-3b7528a51069"
   },
   "outputs": [
    {
     "data": {
      "text/plain": [
       "<pyomo.core.base.constraint._GeneralConstraintData at 0x7f32099bb1c0>"
      ]
     },
     "execution_count": 29,
     "metadata": {},
     "output_type": "execute_result"
    }
   ],
   "source": [
    "model.c.add(expr= x[4] + x[7] == 1)"
   ]
  },
  {
   "cell_type": "code",
   "execution_count": 30,
   "metadata": {
    "colab": {
     "base_uri": "https://localhost:8080/"
    },
    "id": "BBhkJktXItSJ",
    "outputId": "5b3e6e7f-e9a1-4ac2-9873-557f5bccee1b"
   },
   "outputs": [
    {
     "name": "stdout",
     "output_type": "stream",
     "text": [
      "2 Set Declarations\n",
      "    c_index : Size=1, Index=None, Ordered=Insertion\n",
      "        Key  : Dimen : Domain : Size : Members\n",
      "        None :     1 :    Any :    5 : {1, 2, 3, 4, 5}\n",
      "    x_index : Size=1, Index=None, Ordered=Insertion\n",
      "        Key  : Dimen : Domain : Size : Members\n",
      "        None :     1 :    Any :    7 : {1, 2, 3, 4, 5, 6, 7}\n",
      "\n",
      "1 Var Declarations\n",
      "    x : Size=7, Index=x_index\n",
      "        Key : Lower : Value : Upper : Fixed : Stale : Domain\n",
      "          1 :     0 :   0.0 :     1 : False : False : Binary\n",
      "          2 :     0 :   1.0 :     1 : False : False : Binary\n",
      "          3 :     0 :   0.0 :     1 : False : False : Binary\n",
      "          4 :     0 :   0.0 :     1 : False : False : Binary\n",
      "          5 :     0 :   0.0 :     1 : False : False : Binary\n",
      "          6 :     0 :   1.0 :     1 : False : False : Binary\n",
      "          7 :     0 :   1.0 :     1 : False : False : Binary\n",
      "\n",
      "1 Objective Declarations\n",
      "    obj : Size=1, Index=None, Active=True\n",
      "        Key  : Active : Sense    : Expression\n",
      "        None :   True : minimize : 2*x[1] + 7*x[2] + 10*x[3] + 30*x[4] + 10*x[5] + 8*x[6] + 5*x[7]\n",
      "\n",
      "1 Constraint Declarations\n",
      "    c : Size=5, Index=c_index, Active=True\n",
      "        Key : Lower : Body               : Upper : Active\n",
      "          1 :   1.0 :        x[1] + x[2] :   1.0 :   True\n",
      "          2 :   0.0 : x[3] + x[4] - x[1] :   0.0 :   True\n",
      "          3 :   0.0 : x[5] + x[6] - x[2] :   0.0 :   True\n",
      "          4 :   0.0 :        x[6] - x[7] :   0.0 :   True\n",
      "          5 :   1.0 :        x[4] + x[7] :   1.0 :   True\n",
      "\n",
      "5 Declarations: x_index x c_index c obj\n"
     ]
    }
   ],
   "source": [
    "model.obj = pyo.Objective(expr = 2*x[1] + 7*x[2] + 10*x[3] +\n",
    "                          30*x[4] + 10*x[5] + 8*x[6] + 5*x[7], sense = minimize)\n",
    "opt = SolverFactory('glpk')\n",
    "opt.solve(model)\n",
    "model.pprint()"
   ]
  },
  {
   "cell_type": "code",
   "execution_count": 32,
   "metadata": {
    "colab": {
     "base_uri": "https://localhost:8080/"
    },
    "id": "-Rml0R-ZJ2Qy",
    "outputId": "57a5c5bd-a331-4835-909a-8739dad678b7"
   },
   "outputs": [
    {
     "name": "stdout",
     "output_type": "stream",
     "text": [
      "min distance =  20.0\n"
     ]
    }
   ],
   "source": [
    "min_distance = pyo.value(x[1])*2 + pyo.value(x[2])*7 + pyo.value(x[3])*10 + pyo.value(x[4])*30 + pyo.value(x[5])*10 + pyo.value(x[6])*8 + pyo.value(x[7])*5\n",
    "print('min distance = ',min_distance)"
   ]
  }
 ],
 "metadata": {
  "colab": {
   "provenance": []
  },
  "kernelspec": {
   "display_name": "Python 3",
   "language": "python",
   "name": "python3"
  },
  "language_info": {
   "codemirror_mode": {
    "name": "ipython",
    "version": 3
   },
   "file_extension": ".py",
   "mimetype": "text/x-python",
   "name": "python",
   "nbconvert_exporter": "python",
   "pygments_lexer": "ipython3",
   "version": "3.8.5"
  }
 },
 "nbformat": 4,
 "nbformat_minor": 1
}
